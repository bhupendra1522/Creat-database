{
 "cells": [
  {
   "cell_type": "code",
   "execution_count": 1,
   "id": "afc055cd",
   "metadata": {},
   "outputs": [],
   "source": [
    "import sqlite3"
   ]
  },
  {
   "cell_type": "raw",
   "id": "9f0db136",
   "metadata": {},
   "source": [
    "working with database using SQL (stuctured quary language)\n",
    "\n",
    "1 creat a connection object,\n",
    "2 from the connection object, creat a curser object.\n",
    "3 using the cursor object, call the execute method with create table query as the parameter."
   ]
  },
  {
   "cell_type": "markdown",
   "id": "9c9ffbd7",
   "metadata": {},
   "source": [
    "# Create Database"
   ]
  },
  {
   "cell_type": "code",
   "execution_count": 2,
   "id": "03f4dc7f",
   "metadata": {},
   "outputs": [],
   "source": [
    "#student_database will be created in jupyter notebook home\n",
    "\n",
    "# first connection object\n",
    "db=sqlite3.connect(\"student_database.db\")"
   ]
  },
  {
   "cell_type": "raw",
   "id": "527de1fb",
   "metadata": {},
   "source": [
    "Curser\n",
    "A curser in SQL is a temporary work area created in system memory when a SQL statement is excuted.\n",
    "A SQL curser is a set of rows together with a pointer that identifies a current row.\n",
    "It is a database object to retrieve data from a result set one row at a time.\n"
   ]
  },
  {
   "cell_type": "code",
   "execution_count": 3,
   "id": "e2e8f278",
   "metadata": {},
   "outputs": [],
   "source": [
    "# create curser object from connection\n",
    "\n",
    "cur=db.cursor()"
   ]
  },
  {
   "cell_type": "markdown",
   "id": "e16f1d1e",
   "metadata": {},
   "source": [
    "# DBMS"
   ]
  },
  {
   "cell_type": "code",
   "execution_count": 5,
   "id": "1b920215",
   "metadata": {},
   "outputs": [],
   "source": [
    "import sqlite3"
   ]
  },
  {
   "cell_type": "raw",
   "id": "93436ca0",
   "metadata": {},
   "source": [
    "create database"
   ]
  },
  {
   "cell_type": "code",
   "execution_count": 7,
   "id": "a07d0be8",
   "metadata": {},
   "outputs": [],
   "source": [
    "db=sqlite3.connect('student_detail_database21aug.db')"
   ]
  },
  {
   "cell_type": "markdown",
   "id": "2a32d7f0",
   "metadata": {},
   "source": [
    "create cursor"
   ]
  },
  {
   "cell_type": "code",
   "execution_count": 11,
   "id": "7528596b",
   "metadata": {},
   "outputs": [],
   "source": [
    "cur=db.cursor()"
   ]
  },
  {
   "cell_type": "code",
   "execution_count": 17,
   "id": "2f0b4bd3",
   "metadata": {},
   "outputs": [
    {
     "ename": "OperationalError",
     "evalue": "table student already exists",
     "output_type": "error",
     "traceback": [
      "\u001b[1;31m---------------------------------------------------------------------------\u001b[0m",
      "\u001b[1;31mOperationalError\u001b[0m                          Traceback (most recent call last)",
      "Input \u001b[1;32mIn [17]\u001b[0m, in \u001b[0;36m<cell line: 1>\u001b[1;34m()\u001b[0m\n\u001b[1;32m----> 1\u001b[0m \u001b[43mcur\u001b[49m\u001b[38;5;241;43m.\u001b[39;49m\u001b[43mexecute\u001b[49m\u001b[43m(\u001b[49m\u001b[38;5;124;43m'\u001b[39;49m\u001b[38;5;124;43mcreate table student(id int primary key,name text,marks int)\u001b[39;49m\u001b[38;5;124;43m'\u001b[39;49m\u001b[43m)\u001b[49m\n",
      "\u001b[1;31mOperationalError\u001b[0m: table student already exists"
     ]
    }
   ],
   "source": [
    "cur.execute('create table student(id int primary key,name text,marks int)')"
   ]
  },
  {
   "cell_type": "code",
   "execution_count": 16,
   "id": "e7e8a840",
   "metadata": {},
   "outputs": [
    {
     "ename": "IntegrityError",
     "evalue": "UNIQUE constraint failed: student.id",
     "output_type": "error",
     "traceback": [
      "\u001b[1;31m---------------------------------------------------------------------------\u001b[0m",
      "\u001b[1;31mIntegrityError\u001b[0m                            Traceback (most recent call last)",
      "Input \u001b[1;32mIn [16]\u001b[0m, in \u001b[0;36m<cell line: 1>\u001b[1;34m()\u001b[0m\n\u001b[1;32m----> 1\u001b[0m \u001b[43mcur\u001b[49m\u001b[38;5;241;43m.\u001b[39;49m\u001b[43mexecute\u001b[49m\u001b[43m(\u001b[49m\u001b[38;5;124;43m\"\u001b[39;49m\u001b[38;5;124;43minsert into student(id,name,marks) values(101,\u001b[39;49m\u001b[38;5;124;43m'\u001b[39;49m\u001b[38;5;124;43mjohn\u001b[39;49m\u001b[38;5;124;43m'\u001b[39;49m\u001b[38;5;124;43m,80)\u001b[39;49m\u001b[38;5;124;43m\"\u001b[39;49m\u001b[43m)\u001b[49m\n",
      "\u001b[1;31mIntegrityError\u001b[0m: UNIQUE constraint failed: student.id"
     ]
    }
   ],
   "source": [
    "cur.execute(\"insert into student(id,name,marks) values(101,'john',80)\")"
   ]
  },
  {
   "cell_type": "code",
   "execution_count": 11,
   "id": "56a55f45",
   "metadata": {},
   "outputs": [],
   "source": [
    "db.commit() # dcl(data contarol langauge)"
   ]
  },
  {
   "cell_type": "code",
   "execution_count": 12,
   "id": "2193390e",
   "metadata": {},
   "outputs": [],
   "source": [
    "cur.execute(\"insert into student(id,name,marks) values(102,'jack',75)\")\n",
    "ddb.commit()"
   ]
  },
  {
   "cell_type": "code",
   "execution_count": 13,
   "id": "e9892f9c",
   "metadata": {},
   "outputs": [],
   "source": [
    "cur.execute(\"insert into student(id,name,marks) values(103,'dorsey',55)\")\n",
    "db.commit()"
   ]
  },
  {
   "cell_type": "code",
   "execution_count": 14,
   "id": "237dcde3",
   "metadata": {},
   "outputs": [
    {
     "name": "stdout",
     "output_type": "stream",
     "text": [
      "(101, 'john', 80)\n",
      "(102, 'jack', 75)\n",
      "(103, 'dorsey', 55)\n"
     ]
    }
   ],
   "source": [
    "results=cur.execute(\"select * from student\")\n",
    "\n",
    "for i in results:\n",
    "    print(i)"
   ]
  },
  {
   "cell_type": "code",
   "execution_count": 17,
   "id": "775b444b",
   "metadata": {},
   "outputs": [],
   "source": [
    "cur.execute(\"insert into student(id,name,marks) values(104,'elon',78)\")\n",
    "db.commit()"
   ]
  },
  {
   "cell_type": "code",
   "execution_count": 18,
   "id": "08fca557",
   "metadata": {},
   "outputs": [],
   "source": [
    "cur.execute(\"insert into student values(105,'grey',90),(106,'richard',55),(107,'branson',95)\")\n",
    "db.commit()"
   ]
  },
  {
   "cell_type": "code",
   "execution_count": 15,
   "id": "62316ebf",
   "metadata": {},
   "outputs": [
    {
     "name": "stdout",
     "output_type": "stream",
     "text": [
      "(101, 'john', 80)\n",
      "(102, 'jack', 75)\n",
      "(103, 'dorsey', 55)\n",
      "(104, 'elon', 78)\n",
      "(105, 'grey', 90)\n",
      "(106, 'richard', 55)\n",
      "(107, 'branson', 95)\n"
     ]
    }
   ],
   "source": [
    "results=cur.execute(\"select * from student\")\n",
    "\n",
    "for i in results:\n",
    "    print(i)"
   ]
  },
  {
   "cell_type": "code",
   "execution_count": 14,
   "id": "7ebcee0a",
   "metadata": {},
   "outputs": [
    {
     "data": {
      "text/plain": [
       "[(101, 'john', 80),\n",
       " (102, 'jack', 75),\n",
       " (103, 'dorsey', 55),\n",
       " (104, 'elon', 78),\n",
       " (105, 'grey', 90),\n",
       " (106, 'richard', 55),\n",
       " (107, 'branson', 95)]"
      ]
     },
     "execution_count": 14,
     "metadata": {},
     "output_type": "execute_result"
    }
   ],
   "source": [
    "results=cur.execute(\"select * from student\") \n",
    "\n",
    "results.fetchall()"
   ]
  },
  {
   "cell_type": "code",
   "execution_count": 13,
   "id": "0b27614e",
   "metadata": {},
   "outputs": [
    {
     "name": "stdout",
     "output_type": "stream",
     "text": [
      "(101, 'john', 80)\n"
     ]
    }
   ],
   "source": [
    "results=cur.execute(\"select * from student where id=101\")\n",
    "for i in results:\n",
    "    print(i)"
   ]
  },
  {
   "cell_type": "code",
   "execution_count": 18,
   "id": "f3d78ed2",
   "metadata": {},
   "outputs": [
    {
     "name": "stdout",
     "output_type": "stream",
     "text": [
      "(102, 'jack', 75)\n"
     ]
    }
   ],
   "source": [
    "results=cur.execute(\"select * from student where id=102\")\n",
    "for i in results:\n",
    "    print(i)"
   ]
  },
  {
   "cell_type": "code",
   "execution_count": 19,
   "id": "98e1a71a",
   "metadata": {},
   "outputs": [
    {
     "data": {
      "text/plain": [
       "(105, 'grey', 90)"
      ]
     },
     "execution_count": 19,
     "metadata": {},
     "output_type": "execute_result"
    }
   ],
   "source": [
    "results=cur.execute(\"select * from student where id=105\")\n",
    "for i in results:\n",
    "    print(i)\n",
    "\n",
    "results.fetchone()"
   ]
  },
  {
   "cell_type": "code",
   "execution_count": 20,
   "id": "d0594893",
   "metadata": {},
   "outputs": [
    {
     "data": {
      "text/plain": [
       "(102, 'jack', 75)"
      ]
     },
     "execution_count": 20,
     "metadata": {},
     "output_type": "execute_result"
    }
   ],
   "source": [
    "result=cur.execute(\"select * from student where name='jack'\")\n",
    "results.fetchone()"
   ]
  },
  {
   "cell_type": "code",
   "execution_count": 24,
   "id": "5217d1c4",
   "metadata": {},
   "outputs": [
    {
     "data": {
      "text/plain": [
       "(104, 'elon', 78)"
      ]
     },
     "execution_count": 24,
     "metadata": {},
     "output_type": "execute_result"
    }
   ],
   "source": [
    "result=cur.execute(\"select * from student where marks='78'\")\n",
    "results.fetchone()"
   ]
  },
  {
   "cell_type": "code",
   "execution_count": 25,
   "id": "0360757b",
   "metadata": {},
   "outputs": [
    {
     "name": "stdout",
     "output_type": "stream",
     "text": [
      "(101, 'john', 80)\n",
      "(102, 'jack', 75)\n"
     ]
    }
   ],
   "source": [
    "result=cur.execute(\"select * from student where name in('jack','john')\")\n",
    "\n",
    "for i in results:\n",
    "    print(i)\n"
   ]
  },
  {
   "cell_type": "code",
   "execution_count": 28,
   "id": "b64f8d36",
   "metadata": {},
   "outputs": [
    {
     "name": "stdout",
     "output_type": "stream",
     "text": [
      "(101, 'john', 80)\n",
      "(102, 'jack', 75)\n",
      "(103, 'dorsey', 55)\n"
     ]
    }
   ],
   "source": [
    "result=cur.execute(\"select * from student where id in(101,102,103)\")\n",
    "\n",
    "for i in results:\n",
    "    print(i)"
   ]
  },
  {
   "cell_type": "code",
   "execution_count": 29,
   "id": "5dd1a2a1",
   "metadata": {},
   "outputs": [
    {
     "name": "stdout",
     "output_type": "stream",
     "text": [
      "(101, 'john', 80)\n",
      "(102, 'jack', 75)\n",
      "(103, 'dorsey', 55)\n",
      "(104, 'elon', 78)\n",
      "(105, 'grey', 90)\n",
      "(106, 'richard', 55)\n",
      "(107, 'branson', 95)\n"
     ]
    }
   ],
   "source": [
    "result=cur.execute(\"select * from student\")\n",
    "\n",
    "for i in results:\n",
    "    print(i)\n"
   ]
  },
  {
   "cell_type": "code",
   "execution_count": 30,
   "id": "3f9a0436",
   "metadata": {},
   "outputs": [
    {
     "name": "stdout",
     "output_type": "stream",
     "text": [
      "(107, 'branson', 95)\n",
      "(103, 'dorsey', 55)\n",
      "(104, 'elon', 78)\n",
      "(105, 'grey', 90)\n",
      "(102, 'jack', 75)\n",
      "(101, 'john', 80)\n",
      "(106, 'richard', 55)\n"
     ]
    }
   ],
   "source": [
    "results=cur.execute(\"select * from student order by name asc\")\n",
    "for i in results:\n",
    "    print(i)\n"
   ]
  },
  {
   "cell_type": "code",
   "execution_count": 31,
   "id": "8130af58",
   "metadata": {},
   "outputs": [
    {
     "name": "stdout",
     "output_type": "stream",
     "text": [
      "(106, 'richard', 55)\n",
      "(101, 'john', 80)\n",
      "(102, 'jack', 75)\n",
      "(105, 'grey', 90)\n",
      "(104, 'elon', 78)\n",
      "(103, 'dorsey', 55)\n",
      "(107, 'branson', 95)\n"
     ]
    }
   ],
   "source": [
    "results=cur.execute(\"select * from student order by name desc\")\n",
    "for i in results:\n",
    "    print(i)\n"
   ]
  },
  {
   "cell_type": "code",
   "execution_count": null,
   "id": "1f7e4540",
   "metadata": {},
   "outputs": [],
   "source": []
  }
 ],
 "metadata": {
  "kernelspec": {
   "display_name": "Python 3 (ipykernel)",
   "language": "python",
   "name": "python3"
  },
  "language_info": {
   "codemirror_mode": {
    "name": "ipython",
    "version": 3
   },
   "file_extension": ".py",
   "mimetype": "text/x-python",
   "name": "python",
   "nbconvert_exporter": "python",
   "pygments_lexer": "ipython3",
   "version": "3.9.12"
  }
 },
 "nbformat": 4,
 "nbformat_minor": 5
}
